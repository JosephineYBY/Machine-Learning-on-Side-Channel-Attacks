{
 "cells": [
  {
   "cell_type": "code",
   "execution_count": 1,
   "metadata": {},
   "outputs": [],
   "source": [
    "import numpy as np\n",
    "import tensorflow as tf\n",
    "import scipy.io as sio"
   ]
  },
  {
   "cell_type": "code",
   "execution_count": 2,
   "metadata": {},
   "outputs": [],
   "source": [
    "train_x=sio.loadmat('E:\\\\Biyun Yan\\\\wpi\\machine learning in cyber scurity\\\\pro5\\\\data\\\\Training_data_40classes_Tor_Browser.mat')\n",
    "train_data=train_x['X_train3']\n",
    "train_y=sio.loadmat('E:\\\\Biyun Yan\\\\wpi\\\\machine learning in cyber scurity\\\\pro5\\\\data\\\\Training_label_40classes_Tor_Browser.mat')\n",
    "train_label=train_y['Ytrain'].T-1"
   ]
  },
  {
   "cell_type": "code",
   "execution_count": 3,
   "metadata": {},
   "outputs": [],
   "source": [
    "test_x=sio.loadmat('E:\\\\Biyun Yan\\\\wpi\\\\machine learning in cyber scurity\\\\pro5\\\\data\\\\Test_data_40classes_Tor_Browser.mat')\n",
    "test_data=test_x['X_test']\n",
    "test_y=sio.loadmat('E:\\\\Biyun Yan\\\\wpi\\\\machine learning in cyber scurity\\\\pro5\\\\data\\\\Test_label_40classes_Tor_Browser.mat')\n",
    "test_label=test_y['Ytest'].T-1"
   ]
  },
  {
   "cell_type": "code",
   "execution_count": 4,
   "metadata": {},
   "outputs": [
    {
     "name": "stdout",
     "output_type": "stream",
     "text": [
      "WARNING:tensorflow:From <ipython-input-4-87fc90a341f0>:3: conv2d (from tensorflow.python.layers.convolutional) is deprecated and will be removed in a future version.\n",
      "Instructions for updating:\n",
      "Use keras.layers.conv2d instead.\n",
      "WARNING:tensorflow:From C:\\Users\\motto\\Anaconda3\\lib\\site-packages\\tensorflow\\python\\framework\\op_def_library.py:263: colocate_with (from tensorflow.python.framework.ops) is deprecated and will be removed in a future version.\n",
      "Instructions for updating:\n",
      "Colocations handled automatically by placer.\n",
      "WARNING:tensorflow:From <ipython-input-4-87fc90a341f0>:4: max_pooling2d (from tensorflow.python.layers.pooling) is deprecated and will be removed in a future version.\n",
      "Instructions for updating:\n",
      "Use keras.layers.max_pooling2d instead.\n",
      "WARNING:tensorflow:From <ipython-input-4-87fc90a341f0>:10: flatten (from tensorflow.python.layers.core) is deprecated and will be removed in a future version.\n",
      "Instructions for updating:\n",
      "Use keras.layers.flatten instead.\n",
      "Tensor(\"flatten/Reshape:0\", shape=(?, 22800), dtype=float32)\n",
      "WARNING:tensorflow:From <ipython-input-4-87fc90a341f0>:13: dense (from tensorflow.python.layers.core) is deprecated and will be removed in a future version.\n",
      "Instructions for updating:\n",
      "Use keras.layers.dense instead.\n",
      "WARNING:tensorflow:From <ipython-input-4-87fc90a341f0>:14: arg_max (from tensorflow.python.ops.gen_math_ops) is deprecated and will be removed in a future version.\n",
      "Instructions for updating:\n",
      "Use `tf.math.argmax` instead\n",
      "WARNING:tensorflow:From <ipython-input-4-87fc90a341f0>:15: softmax_cross_entropy_with_logits (from tensorflow.python.ops.nn_ops) is deprecated and will be removed in a future version.\n",
      "Instructions for updating:\n",
      "\n",
      "Future major versions of TensorFlow will allow gradients to flow\n",
      "into the labels input on backprop by default.\n",
      "\n",
      "See `tf.nn.softmax_cross_entropy_with_logits_v2`.\n",
      "\n"
     ]
    }
   ],
   "source": [
    "x_placeholder=tf.placeholder(tf.float32,[None,100,60,1])\n",
    "y_placeholder=tf.placeholder(tf.int32,[None,1])\n",
    "conv0=tf.layers.conv2d(x_placeholder,200,10,activation=tf.nn.relu,padding='same')\n",
    "pool0=tf.layers.max_pooling2d(conv0,[10,6],[2,2])\n",
    "conv1=tf.layers.conv2d(pool0,100,4,activation=tf.nn.relu,padding='same')\n",
    "pool1=tf.layers.max_pooling2d(conv1,[10,6],[2,2])\n",
    "#conv2=tf.layers.conv2d(pool0,60,2,activation=tf.nn.relu,padding='same')\n",
    "#pool2=tf.layers.max_pooling2d(conv2,[2,2],[2,2])\n",
    "\n",
    "flatten=tf.layers.flatten(pool1)\n",
    "print(flatten)\n",
    "#fc=tf.layers.dense(flatten,20,activation=tf.nn.relu)\n",
    "logits=tf.layers.dense(flatten,40)\n",
    "predicted_labels=tf.arg_max(logits,1)\n",
    "losses=tf.nn.softmax_cross_entropy_with_logits(labels=tf.one_hot(y_placeholder,40),logits=logits)\n",
    "mean_loss=tf.reduce_mean(losses)\n",
    "optimizer=tf.train.AdamOptimizer(learning_rate=0.01).minimize(losses)"
   ]
  },
  {
   "cell_type": "code",
   "execution_count": 5,
   "metadata": {},
   "outputs": [],
   "source": [
    "train_x=np.reshape(train_data,[-1,100,60,1])\n",
    "train_y=train_label\n",
    "test_x=np.reshape(test_data,[-1,100,60,1])\n",
    "test_y=test_label"
   ]
  },
  {
   "cell_type": "code",
   "execution_count": null,
   "metadata": {},
   "outputs": [],
   "source": [
    "saver=tf.train.Saver()\n",
    "\n",
    "with tf.Session() as sess:\n",
    "    sess.run(tf.global_variables_initializer())\n",
    "    #val_feed_dict={x_placeholder:val_x,y_placeholder:val_y}\n",
    "    train_feed_dict={x_placeholder:train_x,y_placeholder:train_y}\n",
    "    max_acc=0\n",
    "    for step in range(10):\n",
    "        _,mean_loss_val,predicted_labels_train=sess.run([optimizer,mean_loss,predicted_labels],feed_dict=train_feed_dict)\n",
    "       \n",
    "        #predicted_labels_validation=sess.run([predicted_labels],feed_dict=val_feed_dict)\n",
    "        acc=np.sum(predicted_labels_train==train_y)/train_x.shape[0]\n",
    "        print(step,mean_loss_val,acc)\n",
    "        if max_acc<acc:\n",
    "            max_acc=acc\n",
    "            print(\"saving model\")\n",
    "            saver.save(sess,'model_cnn/')"
   ]
  },
  {
   "cell_type": "code",
   "execution_count": 24,
   "metadata": {},
   "outputs": [
    {
     "name": "stdout",
     "output_type": "stream",
     "text": [
      "INFO:tensorflow:Restoring parameters from model_cnn/\n",
      "10.0\n"
     ]
    }
   ],
   "source": [
    "with tf.Session() as sess:\n",
    "    saver.restore(sess,'model_cnn/')\n",
    "    test_feed_dict={x_placeholder:test_x,y_placeholder:test_y}\n",
    "    predicted_labels_val=sess.run(predicted_labels,feed_dict=test_feed_dict)\n",
    "    acc=np.sum(predicted_labels_val==test_y)/test_x.shape[0]\n",
    "    print(acc)"
   ]
  },
  {
   "cell_type": "code",
   "execution_count": null,
   "metadata": {},
   "outputs": [],
   "source": []
  }
 ],
 "metadata": {
  "kernelspec": {
   "display_name": "Python 3",
   "language": "python",
   "name": "python3"
  },
  "language_info": {
   "codemirror_mode": {
    "name": "ipython",
    "version": 3
   },
   "file_extension": ".py",
   "mimetype": "text/x-python",
   "name": "python",
   "nbconvert_exporter": "python",
   "pygments_lexer": "ipython3",
   "version": "3.6.8"
  }
 },
 "nbformat": 4,
 "nbformat_minor": 2
}
