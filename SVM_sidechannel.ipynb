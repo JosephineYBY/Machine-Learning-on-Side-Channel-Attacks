{
 "cells": [
  {
   "cell_type": "code",
   "execution_count": 7,
   "metadata": {},
   "outputs": [],
   "source": [
    "import numpy as np\n",
    "import tensorflow as tf\n",
    "import scipy.io as sio\n",
    "from functools import partial\n",
    "import sklearn as sk\n",
    "from  sklearn import svm\n",
    "from sklearn.metrics import accuracy_score"
   ]
  },
  {
   "cell_type": "code",
   "execution_count": 8,
   "metadata": {},
   "outputs": [],
   "source": [
    "train_x=sio.loadmat('E:\\\\Biyun Yan\\\\wpi\\machine learning in cyber scurity\\\\pro5\\\\data\\\\Training_data_40classes_Tor_Browser.mat')\n",
    "train_data=train_x['X_train3']\n",
    "train_y=sio.loadmat('E:\\\\Biyun Yan\\\\wpi\\\\machine learning in cyber scurity\\\\pro5\\\\data\\\\Training_label_40classes_Tor_Browser.mat')\n",
    "train_label=train_y['Ytrain'].T-1"
   ]
  },
  {
   "cell_type": "code",
   "execution_count": 9,
   "metadata": {},
   "outputs": [],
   "source": [
    "test_x=sio.loadmat('E:\\\\Biyun Yan\\\\wpi\\\\machine learning in cyber scurity\\\\pro5\\\\data\\\\Test_data_40classes_Tor_Browser.mat')\n",
    "test_data=test_x['X_test']\n",
    "test_y=sio.loadmat('E:\\\\Biyun Yan\\\\wpi\\\\machine learning in cyber scurity\\\\pro5\\\\data\\\\Test_label_40classes_Tor_Browser.mat')\n",
    "test_label=test_y['Ytest'].T-1"
   ]
  },
  {
   "cell_type": "code",
   "execution_count": 10,
   "metadata": {},
   "outputs": [
    {
     "name": "stderr",
     "output_type": "stream",
     "text": [
      "C:\\Users\\motto\\Anaconda3\\lib\\site-packages\\sklearn\\utils\\validation.py:761: DataConversionWarning: A column-vector y was passed when a 1d array was expected. Please change the shape of y to (n_samples, ), for example using ravel().\n",
      "  y = column_or_1d(y, warn=True)\n"
     ]
    }
   ],
   "source": [
    "svm_clf = svm.SVC(C=0.8, kernel='rbf', gamma=20, decision_function_shape='ovr')  # class \n",
    "svm_fit=svm_clf.fit(train_data, train_label)\n",
    "pred=svm_clf.predict(test_data)"
   ]
  },
  {
   "cell_type": "code",
   "execution_count": 11,
   "metadata": {},
   "outputs": [
    {
     "data": {
      "text/plain": [
       "0.4025"
      ]
     },
     "execution_count": 11,
     "metadata": {},
     "output_type": "execute_result"
    }
   ],
   "source": [
    "accuracy_score(test_label,pred)"
   ]
  },
  {
   "cell_type": "code",
   "execution_count": null,
   "metadata": {},
   "outputs": [],
   "source": []
  }
 ],
 "metadata": {
  "kernelspec": {
   "display_name": "Python 3",
   "language": "python",
   "name": "python3"
  },
  "language_info": {
   "codemirror_mode": {
    "name": "ipython",
    "version": 3
   },
   "file_extension": ".py",
   "mimetype": "text/x-python",
   "name": "python",
   "nbconvert_exporter": "python",
   "pygments_lexer": "ipython3",
   "version": "3.6.8"
  }
 },
 "nbformat": 4,
 "nbformat_minor": 2
}
